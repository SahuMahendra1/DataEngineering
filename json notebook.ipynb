{
 "cells": [
  {
   "cell_type": "code",
   "execution_count": 0,
   "metadata": {
    "application/vnd.databricks.v1+cell": {
     "cellMetadata": {
      "byteLimit": 2048000,
      "rowLimit": 10000
     },
     "inputWidgets": {},
     "nuid": "88de6988-c0be-424b-9dad-2d2a968a8454",
     "showTitle": false,
     "tableResultSettingsMap": {},
     "title": ""
    }
   },
   "outputs": [],
   "source": [
    "import requests\n",
    "\n",
    "# Download data from URL\n",
    "url = \"https://api.fda.gov/drug/drugsfda.json?limit=100\"\n",
    "response = requests.get(url)"
   ]
  },
  {
   "cell_type": "code",
   "execution_count": 0,
   "metadata": {
    "application/vnd.databricks.v1+cell": {
     "cellMetadata": {
      "byteLimit": 2048000,
      "rowLimit": 10000
     },
     "inputWidgets": {},
     "nuid": "5a4987b1-c38e-42f3-97ec-1be9063fe48f",
     "showTitle": false,
     "tableResultSettingsMap": {},
     "title": ""
    }
   },
   "outputs": [],
   "source": [
    "#lets look into the data\n",
    "response.content"
   ]
  },
  {
   "cell_type": "code",
   "execution_count": 0,
   "metadata": {
    "application/vnd.databricks.v1+cell": {
     "cellMetadata": {
      "byteLimit": 2048000,
      "rowLimit": 10000
     },
     "inputWidgets": {},
     "nuid": "922b2867-1875-4cf5-80a7-e5756a7166b2",
     "showTitle": false,
     "tableResultSettingsMap": {},
     "title": ""
    }
   },
   "outputs": [],
   "source": [
    "from pyspark.sql.types import StructType, StructField, StringType, ArrayType\n",
    "\n",
    "# Define schema for active_ingredients inside products\n",
    "ingredient_schema = StructType([\n",
    "    StructField(\"name\", StringType(), True),\n",
    "    StructField(\"strength\", StringType(), True)\n",
    "])\n",
    "\n",
    "# Define schema for each product\n",
    "product_schema = StructType([\n",
    "    StructField(\"product_number\", StringType(), True),\n",
    "    StructField(\"reference_drug\", StringType(), True),\n",
    "    StructField(\"brand_name\", StringType(), True),\n",
    "    StructField(\"active_ingredients\", ArrayType(ingredient_schema), True),\n",
    "    StructField(\"reference_standard\", StringType(), True),\n",
    "    StructField(\"dosage_form\", StringType(), True),\n",
    "    StructField(\"route\", StringType(), True),\n",
    "    StructField(\"marketing_status\", StringType(), True),\n",
    "    StructField(\"te_code\", StringType(), True)\n",
    "])\n",
    "\n",
    "# Final schema\n",
    "schema = StructType([\n",
    "    StructField(\"application_number\", StringType(), True),\n",
    "    StructField(\"sponsor_name\", StringType(), True),\n",
    "    StructField(\"products\", ArrayType(product_schema), True)\n",
    "])\n",
    "\n",
    "# Create the DataFrame\n",
    "df_drugs = spark.createDataFrame(response.json()[\"results\"], schema=schema)\n",
    "display(df_drugs)\n"
   ]
  },
  {
   "cell_type": "markdown",
   "metadata": {
    "application/vnd.databricks.v1+cell": {
     "cellMetadata": {},
     "inputWidgets": {},
     "nuid": "d6447236-e52d-4570-a871-cc54a6c9de13",
     "showTitle": false,
     "tableResultSettingsMap": {},
     "title": ""
    }
   },
   "source": [
    "1. Pyspark.sql.types : module provide classes to define the schema of data frames and specify the data type of columns thes types are used when creating data frames or defining schema explicity.\n",
    "Atomic Types\n",
    "These represent single-value data types:\n",
    "1. StringType\n",
    "2. IntegerType\n",
    "3. LongType\n",
    "4. FloatType\n",
    "5. BooleanType\n",
    "6. DateType\n",
    "7. TimestampType\n",
    "8. BinaryType\n",
    "\n",
    "Complex Types\n",
    "\n",
    "These repersent more structured data:\n",
    "1. ArrayType: Represent an arrary of elements of specific type.\n",
    "* example : ArrayType(StringType()) for an array of strings.\n",
    "\n",
    "2. MapType: Represent a map(key-value pairs) with specific key and value types.\n",
    "\n",
    "* Example: MapType(StringType(),IntegerType()) for a map with stringKEy and integer Values.\n",
    "\n",
    "3. StructType: Represent a structure(like a row) with multiple fields.\n",
    "* example:\n",
    "StructType([\n",
    "  StructField(\"name\",StringType(),True),\n",
    "  StructField(\"age\",IntegerType(),True)\n",
    "])\n",
    "\n",
    "4. Decimal and Numeric Types\n",
    "* DecimalType(10,2) \n",
    "\n",
    "5. NullType: Represents null values (rarely used explicitly).\n",
    "\n",
    "To use it first import\n",
    "from pyspark.sql.types import StructType, StructField, StringType, IntegerType, ArrayType, MapType, DecimalType"
   ]
  },
  {
   "cell_type": "code",
   "execution_count": 0,
   "metadata": {
    "application/vnd.databricks.v1+cell": {
     "cellMetadata": {
      "byteLimit": 2048000,
      "rowLimit": 10000
     },
     "inputWidgets": {},
     "nuid": "53a29ca2-961a-4abc-890f-e8b4dc359771",
     "showTitle": false,
     "tableResultSettingsMap": {},
     "title": ""
    }
   },
   "outputs": [],
   "source": [
    "df_selected = df_drugs.select(\"application_number\",\"sponsor_name\",\"products.product_number\",\"products.brand_name\",\"products.active_ingredients.name\",\"products.active_ingredients.strength\",\"products.dosage_form\",\"products.route\",\"products.marketing_status\",\"products.te_code\")"
   ]
  },
  {
   "cell_type": "code",
   "execution_count": 0,
   "metadata": {
    "application/vnd.databricks.v1+cell": {
     "cellMetadata": {
      "byteLimit": 2048000,
      "rowLimit": 10000
     },
     "inputWidgets": {},
     "nuid": "5f54eb38-8840-4186-8073-de4cca5af3f9",
     "showTitle": false,
     "tableResultSettingsMap": {},
     "title": ""
    }
   },
   "outputs": [],
   "source": [
    "df_selected.display(5)"
   ]
  },
  {
   "cell_type": "code",
   "execution_count": 0,
   "metadata": {
    "application/vnd.databricks.v1+cell": {
     "cellMetadata": {
      "byteLimit": 2048000,
      "rowLimit": 10000
     },
     "inputWidgets": {},
     "nuid": "ade036b3-099b-4545-aa02-2ef74995b3ed",
     "showTitle": false,
     "tableResultSettingsMap": {},
     "title": ""
    }
   },
   "outputs": [],
   "source": [
    "jsonline_df = spark.read.format(\"json\")\\\n",
    "    .option(\"inferShema\",\"true\")\\\n",
    "        .option(\"mode\",\"PERMISSIVE\")\\\n",
    "            .option(\"nullValue\", \"\") \\\n",
    "    .load(\"/Volumes/workspace/default/json/Untitledline_delimited.json\")\n",
    "\n",
    "\n",
    "display(jsonline_df)"
   ]
  },
  {
   "cell_type": "code",
   "execution_count": 0,
   "metadata": {
    "application/vnd.databricks.v1+cell": {
     "cellMetadata": {
      "byteLimit": 2048000,
      "rowLimit": 10000
     },
     "inputWidgets": {},
     "nuid": "ba868dc7-0898-4764-aa66-9d1e0ff5a5de",
     "showTitle": false,
     "tableResultSettingsMap": {},
     "title": ""
    }
   },
   "outputs": [],
   "source": [
    "jsonline_df = jsonline_df.na.drop()"
   ]
  },
  {
   "cell_type": "code",
   "execution_count": 0,
   "metadata": {
    "application/vnd.databricks.v1+cell": {
     "cellMetadata": {
      "byteLimit": 2048000,
      "rowLimit": 10000
     },
     "inputWidgets": {},
     "nuid": "b0178024-02ca-4511-b9fb-7e5a33155c6a",
     "showTitle": false,
     "tableResultSettingsMap": {},
     "title": ""
    }
   },
   "outputs": [],
   "source": [
    "display(jsonline_df)"
   ]
  },
  {
   "cell_type": "code",
   "execution_count": 0,
   "metadata": {
    "application/vnd.databricks.v1+cell": {
     "cellMetadata": {
      "byteLimit": 2048000,
      "rowLimit": 10000
     },
     "inputWidgets": {},
     "nuid": "10378070-e62d-45bd-810d-ff92a88c245e",
     "showTitle": false,
     "tableResultSettingsMap": {},
     "title": ""
    }
   },
   "outputs": [],
   "source": [
    "jsonSingleline_df = spark.read.format(\"json\")\\\n",
    "    .option(\"inferShema\",\"true\")\\\n",
    "        .option(\"mode\",\"PERMISSIVE\")\\\n",
    "    .load(\"/Volumes/workspace/default/json/single_file_json.json\")\n",
    "\n",
    "jsonSingleline_df = jsonSingleline_df.na.drop(how=\"all\")\n",
    "display(jsonSingleline_df)"
   ]
  },
  {
   "cell_type": "code",
   "execution_count": 0,
   "metadata": {
    "application/vnd.databricks.v1+cell": {
     "cellMetadata": {
      "byteLimit": 2048000,
      "rowLimit": 10000
     },
     "inputWidgets": {},
     "nuid": "0259f098-f65e-455d-a2d4-1830c250a2c9",
     "showTitle": false,
     "tableResultSettingsMap": {},
     "title": ""
    }
   },
   "outputs": [],
   "source": [
    "jsoncorruptedfile_df= spark.read.format(\"json\")\\\n",
    "    .option(\"inferSchema\",\"true\")\\\n",
    "            .option(\"mode\",\"PERMISSIVE\")\\\n",
    "            .load(\"/Volumes/workspace/default/json/corrupted.json\")\n",
    "#.option(\"mode\",\"DROPMALFORMED\")\\\n",
    "\n",
    "display(jsoncorruptedfile_df)"
   ]
  },
  {
   "cell_type": "code",
   "execution_count": 0,
   "metadata": {
    "application/vnd.databricks.v1+cell": {
     "cellMetadata": {
      "byteLimit": 2048000,
      "rowLimit": 10000
     },
     "inputWidgets": {},
     "nuid": "b5d34e64-94cd-4886-bf4f-30d81842ba23",
     "showTitle": false,
     "tableResultSettingsMap": {},
     "title": ""
    }
   },
   "outputs": [],
   "source": [
    "jsonmultiline_df = spark.read.format(\"json\")\\\n",
    "    .option(\"inferSchema\",\"true\")\\\n",
    "        .option(\"mode\",\"PERMISSIVE\")\\\n",
    "            .option(\"multiline\",\"true\")\\\n",
    "                .load(\"/Volumes/workspace/default/json/Multi_line_correct.json\")\n",
    "\n",
    "\n",
    "display(jsonmultiline_df)"
   ]
  }
 ],
 "metadata": {
  "application/vnd.databricks.v1+notebook": {
   "computePreferences": null,
   "dashboards": [],
   "environmentMetadata": {
    "base_environment": "",
    "environment_version": "2"
   },
   "inputWidgetPreferences": null,
   "language": "python",
   "notebookMetadata": {
    "pythonIndentUnit": 4
   },
   "notebookName": "json notebook",
   "widgets": {}
  },
  "language_info": {
   "name": "python"
  }
 },
 "nbformat": 4,
 "nbformat_minor": 0
}
