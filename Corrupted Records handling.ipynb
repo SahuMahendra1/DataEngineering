{
 "cells": [
  {
   "cell_type": "code",
   "execution_count": 0,
   "metadata": {
    "application/vnd.databricks.v1+cell": {
     "cellMetadata": {
      "byteLimit": 2048000,
      "rowLimit": 10000
     },
     "inputWidgets": {},
     "nuid": "b361d983-d533-4c17-bf4a-de4d4ec1bf86",
     "showTitle": false,
     "tableResultSettingsMap": {},
     "title": ""
    }
   },
   "outputs": [],
   "source": [
    "from pyspark.sql import SparkSession\n",
    "spark = SparkSession.builder.appName(\"Spark DataFrames\").getOrCreate()\n"
   ]
  },
  {
   "cell_type": "code",
   "execution_count": 0,
   "metadata": {
    "application/vnd.databricks.v1+cell": {
     "cellMetadata": {
      "byteLimit": 2048000,
      "rowLimit": 10000
     },
     "inputWidgets": {},
     "nuid": "d1f9254b-db59-46cf-84bc-2789c6cb7089",
     "showTitle": false,
     "tableResultSettingsMap": {},
     "title": ""
    }
   },
   "outputs": [],
   "source": [
    "\n",
    "emp_df=spark.read.csv(\"/Volumes/workspace/default/csv/Employees.csv\",inferSchema=True,header=True,mode=\"PERMISSIVE\")\n",
    "emp_df.show()\n",
    "emp_df.printSchema()\n"
   ]
  },
  {
   "cell_type": "code",
   "execution_count": 0,
   "metadata": {
    "application/vnd.databricks.v1+cell": {
     "cellMetadata": {
      "byteLimit": 2048000,
      "rowLimit": 10000
     },
     "inputWidgets": {},
     "nuid": "a4491147-0017-4bc7-9d19-950f5b60fd2d",
     "showTitle": false,
     "tableResultSettingsMap": {},
     "title": ""
    }
   },
   "outputs": [],
   "source": [
    "emploee_df=spark.read.format(\"csv\")\\\n",
    ".option(\"header\",\"true\")\\\n",
    ".option(\"inferschema\",\"true\")\\\n",
    ".option(\"mode\",\"FAILFAST\")\\\n",
    ".load(\"/Volumes/workspace/default/csv/Employees.csv\")\n",
    "\n",
    "emploee_df.show()\n",
    "emp_df.printSchema()"
   ]
  },
  {
   "cell_type": "code",
   "execution_count": 0,
   "metadata": {
    "application/vnd.databricks.v1+cell": {
     "cellMetadata": {
      "byteLimit": 2048000,
      "rowLimit": 10000
     },
     "inputWidgets": {},
     "nuid": "ae22e38b-c4a5-419b-b3a6-b3f3c91625ad",
     "showTitle": false,
     "tableResultSettingsMap": {},
     "title": ""
    }
   },
   "outputs": [],
   "source": [
    "from pyspark.sql.types import StructType,StructField,IntegerType,StringType\n",
    "emp_schema=StructType([StructField(\"id\",IntegerType(),True),\n",
    "                   StructField(\"name\",StringType(),True),\n",
    "                   StructField(\"age\",IntegerType(),True),\n",
    "                   StructField(\"salary\",IntegerType(),True),\n",
    "                   StructField(\"address\",StringType(),True),\n",
    "                   StructField(\"nominee\",StringType(),True),\n",
    "                   StructField(\"corrouptrecords\",StringType(),True)\n",
    "                ])"
   ]
  },
  {
   "cell_type": "code",
   "execution_count": 0,
   "metadata": {
    "application/vnd.databricks.v1+cell": {
     "cellMetadata": {
      "byteLimit": 2048000,
      "rowLimit": 10000
     },
     "inputWidgets": {},
     "nuid": "cfca6695-2f2a-4714-950e-c867be4dcde6",
     "showTitle": false,
     "tableResultSettingsMap": {},
     "title": ""
    }
   },
   "outputs": [],
   "source": [
    "emploee_df=spark.read.format(\"csv\")\\\n",
    ".option(\"header\",\"true\")\\\n",
    ".option(\"inferschema\",\"true\")\\\n",
    ".option(\"badRecordsPath\",\"/Volumes/workspace/default/csv/bad_records\")\\\n",
    ".option(\"schema\",\"emp_schema\")\\\n",
    "    .option(\"encoding\",\"UTF-8\")\\\n",
    ".load(\"/Volumes/workspace/default/csv/Employees.csv\")\n",
    "\n",
    "emploee_df.show()"
   ]
  },
  {
   "cell_type": "code",
   "execution_count": 0,
   "metadata": {
    "application/vnd.databricks.v1+cell": {
     "cellMetadata": {
      "byteLimit": 2048000,
      "rowLimit": 10000
     },
     "inputWidgets": {},
     "nuid": "6cbb4a9c-3e85-430f-b720-20313658d919",
     "showTitle": false,
     "tableResultSettingsMap": {},
     "title": ""
    }
   },
   "outputs": [],
   "source": [
    ".%fs\n",
    "ls /Volumes/workspace/default/csv"
   ]
  },
  {
   "cell_type": "code",
   "execution_count": 0,
   "metadata": {
    "application/vnd.databricks.v1+cell": {
     "cellMetadata": {},
     "inputWidgets": {},
     "nuid": "99dc0538-fd1c-4f3e-a4ce-62f809f1f1ac",
     "showTitle": false,
     "tableResultSettingsMap": {},
     "title": ""
    }
   },
   "outputs": [],
   "source": []
  }
 ],
 "metadata": {
  "application/vnd.databricks.v1+notebook": {
   "computePreferences": null,
   "dashboards": [],
   "environmentMetadata": {
    "base_environment": "",
    "environment_version": "2"
   },
   "inputWidgetPreferences": null,
   "language": "python",
   "notebookMetadata": {
    "mostRecentlyExecutedCommandWithImplicitDF": {
     "commandId": 6251124768852799,
     "dataframes": [
      "_sqldf"
     ]
    },
    "pythonIndentUnit": 4
   },
   "notebookName": "Corrupted Records handling",
   "widgets": {}
  },
  "language_info": {
   "name": "python"
  }
 },
 "nbformat": 4,
 "nbformat_minor": 0
}
